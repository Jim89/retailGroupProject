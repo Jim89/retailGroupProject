{
 "cells": [
  {
   "cell_type": "markdown",
   "metadata": {},
   "source": [
    "### RETAIL ANALYSIS - INSTANT COFFEE \n",
    "Do heavy versus light users in the category have different price elasticities and differences in buying behaviour (e.g., buy different brands, buy different proportion of products on discount)?\n",
    "\n",
    "To reduce the dimensionality of the problem consider the following retailers: TESCO, ASDA, SAINSBURYS, MORRISSONS and combine the two major discounters ALDI and LIDL (they have similar policies); then focus on the following types: granules, freeze dry, and micro ground.\n",
    "\n",
    "#### THE DATA\n",
    "Raw panel data from Kantar Worldpanel containing approx. 270,000 individual level transactions:\n",
    "    * Relweek  -->  Relative week (209-260)\n",
    "    * Year  -->  Year of data - 5\n",
    "    * Shop_Desc  -->  Shop bought (text)\n",
    "    * Brand_Name  -->  Brand inc Store brand - lower level name (text) \n",
    "    * Total_range_name  --> Brand Higher (except store brand) level name (text)\n",
    "    * Sub_Cat_Name -->  Sub category \n",
    "    * Epromdesc\t-->  Type of promotion \n",
    "    * Volume -->  Volume bought on trip in gms \n",
    "    * Household Number  --> Household id\n",
    "    * Day Of Purchase  -->  day bought (1-7 ) 1=Monday….7=Sunday\n",
    "    * Packs Bought  -->  No of packs bought \n",
    "    * Netspend  -->  Total actual spend on trip ( price paid = netspend / packs) \n",
    "\n",
    "#### DELIVERABLES\n",
    "* Final report: written brief no longer than 2,000 words (excl. references, title page, or index) with up to four pages of appendices.\n",
    "* The final dataset in the format it was analysed.\n",
    "* All (clean) scripts used to obtain your final models and analysis.\n",
    "* Present to Kantar brand manager i.e. non-technical audience (ca. 10min -> 15min w/Q&A).\n",
    "\n"
   ]
  },
  {
   "cell_type": "markdown",
   "metadata": {},
   "source": [
    "###### Suggested data manipulations:\n",
    "\n",
    "1) DEFINING CONSUMER VARIABLES:\n",
    "* Create ordinal variable for ['heavy', 'medium', 'light'] users: Sum coffee purchase: quantity * frequency\n",
    "    * 'heavy' upper quartile household_id on average weekly volume\n",
    "    * 'medium' 2nd-4th quartile household_id on average weekly volume\n",
    "    * 'light' 1st quartile household_id on average weekly volume\n",
    "* Distributions of \n",
    "    * Household_id net spend OR volume\n",
    "    * Household_id day they shop\n",
    "\n",
    "\n",
    "2) COMPUTE ELASTICITY MATRICES:\n",
    "* Brands\n",
    "* Types\n",
    "* Shops\n",
    "    * household_id gives information on income i.e. zipcode\n",
    "    * easier: group by shops - assuming households on avg. do their shopping close to their homes\n",
    "\n",
    "\n",
    "3) A. DEFINING BEHAVIOURAL VARIABLES: PRODUCT\n",
    "* Proportion of sales being for product that were promoted etc.\n",
    "* Create dummy variable for promotion of price (eg: promotion in % or cents) vs units (eg: 2 for 1)\n",
    "    * Epromdesc --> Type of promotion\n",
    "* ef\n",
    "\n",
    "3) B. DEFINING BEHAVIOURAL VARIABLES: PREFERENCES\n",
    "* Analyse prefrences by demographics\n",
    "* To make a 'long' dataset showing the availability of brands in a shop, look at what other brands where bought in the shop on the same day. (get availability and price)\n",
    "\n",
    "Do heavy versus light users in the category have different price elasticities and differences in buying behaviour (e.g., buy different brands, buy different proportion of products on discount)?"
   ]
  },
  {
   "cell_type": "code",
   "execution_count": 30,
   "metadata": {
    "collapsed": false
   },
   "outputs": [
    {
     "name": "stdout",
     "output_type": "stream",
     "text": [
      "270098\n"
     ]
    },
    {
     "data": {
      "text/plain": [
       "270098"
      ]
     },
     "execution_count": 30,
     "metadata": {},
     "output_type": "execute_result"
    }
   ],
   "source": [
    "import csv\n",
    "import numpy as np\n",
    "import pandas as pd\n",
    "import patsy \n",
    "\n",
    "%matplotlib inline\n",
    "\n",
    "# For running regressions and R-type formulas\n",
    "import statsmodels\n",
    "import statsmodels.api as sm\n",
    "# R type regression formulas\n",
    "import statsmodels.formula.api as smf\n",
    "\n",
    "df = pd.read_csv('InstantCoffee (confidential).csv')\n",
    "\n",
    "print len(df)\n",
    "#df = df.fillna(0)\n",
    "df = df.dropna()\n",
    "len(df)"
   ]
  },
  {
   "cell_type": "code",
   "execution_count": 12,
   "metadata": {
    "collapsed": false
   },
   "outputs": [
    {
     "data": {
      "text/plain": [
       "['relweek',\n",
       " 'year',\n",
       " 'shop_desc',\n",
       " 'brand_name',\n",
       " 'total_range_name',\n",
       " 'sub_cat_name',\n",
       " 'epromdesc',\n",
       " 'Volume',\n",
       " 'HOUSE',\n",
       " 'DAY',\n",
       " 'PACKS',\n",
       " 'NETSPEND']"
      ]
     },
     "execution_count": 12,
     "metadata": {},
     "output_type": "execute_result"
    }
   ],
   "source": [
    "# Get columns headers of data\n",
    "cols = df.columns.tolist()\n",
    "cols"
   ]
  },
  {
   "cell_type": "code",
   "execution_count": 3,
   "metadata": {
    "collapsed": false
   },
   "outputs": [],
   "source": [
    "# Remove unnamed cols and rename remaining cols\n",
    "#df.drop(df.columns[[6,7,8,9,10,11,12,13]], axis=1, inplace=True)\n",
    "#cols = ['Week', 'Units', 'Reg_Price', 'Price_Cut', 'DISP', 'FEAT']\n",
    "#df.columns = cols"
   ]
  },
  {
   "cell_type": "code",
   "execution_count": 4,
   "metadata": {
    "collapsed": false
   },
   "outputs": [],
   "source": [
    "# Sort columns in df alphabetically\n",
    "#cols.sort(key=lambda x:(not x.islower(), x))\n",
    "#cols\n",
    "#df = df.ix[:, cols]"
   ]
  },
  {
   "cell_type": "code",
   "execution_count": 4,
   "metadata": {
    "collapsed": false
   },
   "outputs": [
    {
     "data": {
      "text/html": [
       "<div style=\"max-height:1000px;max-width:1500px;overflow:auto;\">\n",
       "<table border=\"1\" class=\"dataframe\">\n",
       "  <thead>\n",
       "    <tr style=\"text-align: right;\">\n",
       "      <th></th>\n",
       "      <th>relweek</th>\n",
       "      <th>year</th>\n",
       "      <th>shop_desc</th>\n",
       "      <th>brand_name</th>\n",
       "      <th>total_range_name</th>\n",
       "      <th>sub_cat_name</th>\n",
       "      <th>epromdesc</th>\n",
       "      <th>Volume</th>\n",
       "      <th>HOUSE</th>\n",
       "      <th>DAY</th>\n",
       "      <th>PACKS</th>\n",
       "      <th>NETSPEND</th>\n",
       "    </tr>\n",
       "  </thead>\n",
       "  <tbody>\n",
       "    <tr>\n",
       "      <th>0</th>\n",
       "      <td>209</td>\n",
       "      <td>5</td>\n",
       "      <td>1TESCO</td>\n",
       "      <td>Nescafe Original I.Coffee</td>\n",
       "      <td>Nescafe</td>\n",
       "      <td>Decaf Non-Freeze Dried</td>\n",
       "      <td>TPR 149p off</td>\n",
       "      <td>0.1999</td>\n",
       "      <td>10052</td>\n",
       "      <td>4</td>\n",
       "      <td>1</td>\n",
       "      <td>4.0</td>\n",
       "    </tr>\n",
       "    <tr>\n",
       "      <th>1</th>\n",
       "      <td>209</td>\n",
       "      <td>5</td>\n",
       "      <td>3SAINSBURYS</td>\n",
       "      <td>PL_Standard</td>\n",
       "      <td>Sainsbury</td>\n",
       "      <td>Freeze Dried</td>\n",
       "      <td>2 FOR �5</td>\n",
       "      <td>0.1999</td>\n",
       "      <td>10112</td>\n",
       "      <td>5</td>\n",
       "      <td>1</td>\n",
       "      <td>2.5</td>\n",
       "    </tr>\n",
       "    <tr>\n",
       "      <th>2</th>\n",
       "      <td>209</td>\n",
       "      <td>5</td>\n",
       "      <td>3SAINSBURYS</td>\n",
       "      <td>PL_Standard</td>\n",
       "      <td>Sainsbury</td>\n",
       "      <td>Freeze Dried</td>\n",
       "      <td>2 FOR �5</td>\n",
       "      <td>0.1999</td>\n",
       "      <td>10112</td>\n",
       "      <td>5</td>\n",
       "      <td>1</td>\n",
       "      <td>2.5</td>\n",
       "    </tr>\n",
       "  </tbody>\n",
       "</table>\n",
       "</div>"
      ],
      "text/plain": [
       "   relweek  year    shop_desc                 brand_name total_range_name  \\\n",
       "0      209     5       1TESCO  Nescafe Original I.Coffee          Nescafe   \n",
       "1      209     5  3SAINSBURYS                PL_Standard        Sainsbury   \n",
       "2      209     5  3SAINSBURYS                PL_Standard        Sainsbury   \n",
       "\n",
       "             sub_cat_name     epromdesc  Volume  HOUSE  DAY  PACKS  NETSPEND  \n",
       "0  Decaf Non-Freeze Dried  TPR 149p off  0.1999  10052    4      1       4.0  \n",
       "1            Freeze Dried      2 FOR �5  0.1999  10112    5      1       2.5  \n",
       "2            Freeze Dried      2 FOR �5  0.1999  10112    5      1       2.5  "
      ]
     },
     "execution_count": 4,
     "metadata": {},
     "output_type": "execute_result"
    }
   ],
   "source": [
    "df.head(3)"
   ]
  },
  {
   "cell_type": "code",
   "execution_count": 18,
   "metadata": {
    "collapsed": false
   },
   "outputs": [
    {
     "name": "stdout",
     "output_type": "stream",
     "text": [
      "8 ['Decaf Non-Freeze Dried' 'Freeze Dried' 'Granules' 'Micro Ground'\n",
      " 'Decaf Freeze Dried' 'Speciality Instant Coffee' 'Powder'\n",
      " 'Chicory Mixtures']\n"
     ]
    }
   ],
   "source": [
    "# How many different coffee types & the list of these\n",
    "coffee_type = pd.unique(df['sub_cat_name'])\n",
    "print len(coffee_type), coffee_type"
   ]
  },
  {
   "cell_type": "code",
   "execution_count": 36,
   "metadata": {
    "collapsed": false
   },
   "outputs": [
    {
     "data": {
      "text/plain": [
       "178409"
      ]
     },
     "execution_count": 36,
     "metadata": {},
     "output_type": "execute_result"
    }
   ],
   "source": [
    "# Only focus on the following types: granules, freeze dry, and micro ground.\n",
    "# reduced dataset once\n",
    "df_less_types = df.drop(df[(df.sub_cat_name=='Speciality Instant Coffee') | \n",
    "                           (df.sub_cat_name=='Powder') | \n",
    "                           (df.sub_cat_name=='Chicory Mixtures')].index)\n",
    "len(df_less_types)"
   ]
  },
  {
   "cell_type": "code",
   "execution_count": 37,
   "metadata": {
    "collapsed": false
   },
   "outputs": [
    {
     "name": "stdout",
     "output_type": "stream",
     "text": [
      "17 ['1TESCO' '3SAINSBURYS' '2ASDA' '7DISCOUNTERS Aldi' '7DISCOUNTERS Lidl'\n",
      " 'X1OTHER B13OTHERS STORES' '4MORRISONS' 'X1OTHER B14OTHERS' '5COOP'\n",
      " '6WAITROSE' '8ICELAND' 'X1OTHER B11LOCAL SHOPS'\n",
      " 'X1OTHER B12OTHER CHEMISTS' 'X1OTHER B10WILKINSON' '9BOOTS'\n",
      " 'X1OTHER 7SUPERDRUG' '.']\n"
     ]
    }
   ],
   "source": [
    "# How many different shop brands & the list of these\n",
    "shop_list = pd.unique(df_less_types['shop_desc'])\n",
    "print len(shop_list), shop_list"
   ]
  },
  {
   "cell_type": "code",
   "execution_count": 39,
   "metadata": {
    "collapsed": false
   },
   "outputs": [
    {
     "data": {
      "text/plain": [
       "152868"
      ]
     },
     "execution_count": 39,
     "metadata": {},
     "output_type": "execute_result"
    }
   ],
   "source": [
    "# Only consider the following retailers: TESCO, ASDA, SAINSBURYS, MORRISSONS + combine discounters ALDI and LIDL\n",
    "# reduced dataset twice\n",
    "df_less_retailers = df_less_types.drop(df_less_types[(df_less_types.shop_desc=='X1OTHER B13OTHERS STORES') | \n",
    "                                                     (df_less_types.shop_desc=='X1OTHER B14OTHERS') |\n",
    "                                                     (df_less_types.shop_desc=='5COOP') | \n",
    "                                                     (df_less_types.shop_desc=='6WAITROSE') |\n",
    "                                                     (df_less_types.shop_desc=='8ICELAND') | \n",
    "                                                     (df_less_types.shop_desc=='X1OTHER B11LOCAL SHOPS') | \n",
    "                                                     (df_less_types.shop_desc=='X1OTHER B12OTHER CHEMISTS') | \n",
    "                                                     (df_less_types.shop_desc=='X1OTHER B10WILKINSON') | \n",
    "                                                     (df_less_types.shop_desc=='9BOOTS') | \n",
    "                                                     (df_less_types.shop_desc=='X1OTHER 7SUPERDRUG') | \n",
    "                                                     (df_less_types.shop_desc=='.')].index)\n",
    "len(df_less_retailers)"
   ]
  },
  {
   "cell_type": "code",
   "execution_count": 45,
   "metadata": {
    "collapsed": false
   },
   "outputs": [
    {
     "data": {
      "text/html": [
       "<div style=\"max-height:1000px;max-width:1500px;overflow:auto;\">\n",
       "<table border=\"1\" class=\"dataframe\">\n",
       "  <thead>\n",
       "    <tr style=\"text-align: right;\">\n",
       "      <th></th>\n",
       "      <th>relweek</th>\n",
       "      <th>year</th>\n",
       "      <th>shop_desc</th>\n",
       "      <th>brand_name</th>\n",
       "      <th>total_range_name</th>\n",
       "      <th>sub_cat_name</th>\n",
       "      <th>epromdesc</th>\n",
       "      <th>Volume</th>\n",
       "      <th>HOUSE</th>\n",
       "      <th>DAY</th>\n",
       "      <th>PACKS</th>\n",
       "      <th>NETSPEND</th>\n",
       "    </tr>\n",
       "  </thead>\n",
       "  <tbody>\n",
       "    <tr>\n",
       "      <th>0</th>\n",
       "      <td>209</td>\n",
       "      <td>5</td>\n",
       "      <td>1TESCO</td>\n",
       "      <td>Nescafe Original I.Coffee</td>\n",
       "      <td>Nescafe</td>\n",
       "      <td>Decaf Non-Freeze Dried</td>\n",
       "      <td>TPR 149p off</td>\n",
       "      <td>0.1999</td>\n",
       "      <td>10052</td>\n",
       "      <td>4</td>\n",
       "      <td>1</td>\n",
       "      <td>4.0</td>\n",
       "    </tr>\n",
       "    <tr>\n",
       "      <th>1</th>\n",
       "      <td>209</td>\n",
       "      <td>5</td>\n",
       "      <td>3SAINSBURYS</td>\n",
       "      <td>PL_Standard</td>\n",
       "      <td>Sainsbury</td>\n",
       "      <td>Freeze Dried</td>\n",
       "      <td>2 FOR �5</td>\n",
       "      <td>0.1999</td>\n",
       "      <td>10112</td>\n",
       "      <td>5</td>\n",
       "      <td>1</td>\n",
       "      <td>2.5</td>\n",
       "    </tr>\n",
       "    <tr>\n",
       "      <th>2</th>\n",
       "      <td>209</td>\n",
       "      <td>5</td>\n",
       "      <td>3SAINSBURYS</td>\n",
       "      <td>PL_Standard</td>\n",
       "      <td>Sainsbury</td>\n",
       "      <td>Freeze Dried</td>\n",
       "      <td>2 FOR �5</td>\n",
       "      <td>0.1999</td>\n",
       "      <td>10112</td>\n",
       "      <td>5</td>\n",
       "      <td>1</td>\n",
       "      <td>2.5</td>\n",
       "    </tr>\n",
       "  </tbody>\n",
       "</table>\n",
       "</div>"
      ],
      "text/plain": [
       "   relweek  year    shop_desc                 brand_name total_range_name  \\\n",
       "0      209     5       1TESCO  Nescafe Original I.Coffee          Nescafe   \n",
       "1      209     5  3SAINSBURYS                PL_Standard        Sainsbury   \n",
       "2      209     5  3SAINSBURYS                PL_Standard        Sainsbury   \n",
       "\n",
       "             sub_cat_name     epromdesc  Volume  HOUSE  DAY  PACKS  NETSPEND  \n",
       "0  Decaf Non-Freeze Dried  TPR 149p off  0.1999  10052    4      1       4.0  \n",
       "1            Freeze Dried      2 FOR �5  0.1999  10112    5      1       2.5  \n",
       "2            Freeze Dried      2 FOR �5  0.1999  10112    5      1       2.5  "
      ]
     },
     "execution_count": 45,
     "metadata": {},
     "output_type": "execute_result"
    }
   ],
   "source": [
    "# Combine Aldi and Lidl into new name == 'DISCOUNTERS'\n",
    "reduced_df = df_less_retailers.replace(['7DISCOUNTERS Aldi', '7DISCOUNTERS Lidl'], ['DISCOUNTERS', 'DISCOUNTERS'])"
   ]
  },
  {
   "cell_type": "code",
   "execution_count": 46,
   "metadata": {
    "collapsed": false
   },
   "outputs": [
    {
     "name": "stdout",
     "output_type": "stream",
     "text": [
      "33 ['Nescafe Original I.Coffee' 'PL_Standard' 'Carte Noire' 'Kenco'\n",
      " 'Douwe Egbert' 'Nescafe Gold Blend(Nestle' 'Nescafe' 'Beanies'\n",
      " 'Nescafe Alta Rica' 'Maxwell House' 'Cafe Direct (Cafe Direct)' 'PL_Value'\n",
      " 'Starbucks' 'Rappor' 'Percol Ftrd (Food Brands)' 'Nescafe Black Gold'\n",
      " 'Nescafe Premium' 'Clipper Fairtrade' 'PL_Premium' 'Nescafe Cap Colombie'\n",
      " 'Red Mountain (Typhoo Tea)' 'Nescafe Blend 37 (Nestle)'\n",
      " 'Maxwell House Classic' 'Percol (Food Brands)' 'Cafe Classic' 'Lyons'\n",
      " 'Nescafe Red Cup I.Coffee' 'Fair Instant' 'Caffe Deli' 'El Careto'\n",
      " 'Lavazza' 'Other Brands' 'Bewleys']\n"
     ]
    }
   ],
   "source": [
    "# How many different coffee types & the list of these\n",
    "coffee_list = pd.unique(reduced_df['brand_name'])\n",
    "print len(coffee_list), coffee_list"
   ]
  },
  {
   "cell_type": "code",
   "execution_count": 49,
   "metadata": {
    "collapsed": false
   },
   "outputs": [
    {
     "name": "stdout",
     "output_type": "stream",
     "text": [
      "47 ['Nescafe' 'Sainsbury' 'Carte Noire' 'Kenco' 'Aldi' 'Douwe Egbert'\n",
      " 'Sainsbury Full Roast' 'Nescafe Gold Blend(Nestle' 'Beanies' 'Lidl'\n",
      " 'Maxwell House' 'Cafe Direct (Cafe Direct)' 'Tesco Gold'\n",
      " 'Asda Chosen By You' 'Tesco' 'Morrisons Savers' 'Morrisons' 'Starbucks'\n",
      " 'Asda Smartprice' 'Tesco Value' 'Tesco Rich Roast' 'Tesco Classic Gold'\n",
      " 'Rappor' 'Lidl Organic' 'Percol Ftrd (Food Brands)' 'Sainsbury By'\n",
      " 'Sainsburys Basics' 'Asda Rich Roast' 'Sainsbury Dark Roasted'\n",
      " 'Clipper Fairtrade' 'Aldi Specially Selected' 'Aldi Fairtrade'\n",
      " 'Sain Taste The Difference' 'Tesco Finest' 'Red Mountain (Typhoo Tea)'\n",
      " 'Nescafe Blend 37 (Nestle)' 'Maxwell House Classic' 'Percol (Food Brands)'\n",
      " 'Cafe Classic' 'Lyons' 'Fair Instant' 'Asda Extra Special' 'Caffe Deli'\n",
      " 'El Careto' 'Lavazza' 'Other Brands' 'Bewleys']\n"
     ]
    }
   ],
   "source": [
    "# How many different coffee brands & the list of these\n",
    "range_list = pd.unique(reduced_df['total_range_name'])\n",
    "print len(range_list), range_list\n",
    "\n",
    "# we might want to group these differently"
   ]
  },
  {
   "cell_type": "code",
   "execution_count": 50,
   "metadata": {
    "collapsed": false
   },
   "outputs": [
    {
     "data": {
      "text/html": [
       "<div style=\"max-height:1000px;max-width:1500px;overflow:auto;\">\n",
       "<table border=\"1\" class=\"dataframe\">\n",
       "  <thead>\n",
       "    <tr style=\"text-align: right;\">\n",
       "      <th></th>\n",
       "      <th>count</th>\n",
       "      <th>mean</th>\n",
       "      <th>std</th>\n",
       "      <th>min</th>\n",
       "      <th>25%</th>\n",
       "      <th>50%</th>\n",
       "      <th>75%</th>\n",
       "      <th>max</th>\n",
       "    </tr>\n",
       "  </thead>\n",
       "  <tbody>\n",
       "    <tr>\n",
       "      <th>relweek</th>\n",
       "      <td>152868</td>\n",
       "      <td>233.981651</td>\n",
       "      <td>15.150689</td>\n",
       "      <td>209.0000</td>\n",
       "      <td>221.0000</td>\n",
       "      <td>233.00</td>\n",
       "      <td>247.0000</td>\n",
       "      <td>260.0000</td>\n",
       "    </tr>\n",
       "    <tr>\n",
       "      <th>year</th>\n",
       "      <td>152868</td>\n",
       "      <td>5.000000</td>\n",
       "      <td>0.000000</td>\n",
       "      <td>5.0000</td>\n",
       "      <td>5.0000</td>\n",
       "      <td>5.00</td>\n",
       "      <td>5.0000</td>\n",
       "      <td>5.0000</td>\n",
       "    </tr>\n",
       "    <tr>\n",
       "      <th>Volume</th>\n",
       "      <td>152868</td>\n",
       "      <td>0.163938</td>\n",
       "      <td>0.073050</td>\n",
       "      <td>0.0046</td>\n",
       "      <td>0.1001</td>\n",
       "      <td>0.15</td>\n",
       "      <td>0.1999</td>\n",
       "      <td>0.7501</td>\n",
       "    </tr>\n",
       "    <tr>\n",
       "      <th>HOUSE</th>\n",
       "      <td>152868</td>\n",
       "      <td>582529.504501</td>\n",
       "      <td>272061.237900</td>\n",
       "      <td>10052.0000</td>\n",
       "      <td>201341.0000</td>\n",
       "      <td>734862.00</td>\n",
       "      <td>761671.0000</td>\n",
       "      <td>788085.0000</td>\n",
       "    </tr>\n",
       "    <tr>\n",
       "      <th>DAY</th>\n",
       "      <td>152868</td>\n",
       "      <td>4.082261</td>\n",
       "      <td>1.911370</td>\n",
       "      <td>1.0000</td>\n",
       "      <td>2.0000</td>\n",
       "      <td>4.00</td>\n",
       "      <td>6.0000</td>\n",
       "      <td>7.0000</td>\n",
       "    </tr>\n",
       "    <tr>\n",
       "      <th>PACKS</th>\n",
       "      <td>152868</td>\n",
       "      <td>1.000000</td>\n",
       "      <td>0.000000</td>\n",
       "      <td>1.0000</td>\n",
       "      <td>1.0000</td>\n",
       "      <td>1.00</td>\n",
       "      <td>1.0000</td>\n",
       "      <td>1.0000</td>\n",
       "    </tr>\n",
       "    <tr>\n",
       "      <th>NETSPEND</th>\n",
       "      <td>152868</td>\n",
       "      <td>2.920237</td>\n",
       "      <td>1.352321</td>\n",
       "      <td>0.0000</td>\n",
       "      <td>1.9900</td>\n",
       "      <td>2.97</td>\n",
       "      <td>4.0000</td>\n",
       "      <td>14.6300</td>\n",
       "    </tr>\n",
       "  </tbody>\n",
       "</table>\n",
       "</div>"
      ],
      "text/plain": [
       "           count           mean            std         min          25%  \\\n",
       "relweek   152868     233.981651      15.150689    209.0000     221.0000   \n",
       "year      152868       5.000000       0.000000      5.0000       5.0000   \n",
       "Volume    152868       0.163938       0.073050      0.0046       0.1001   \n",
       "HOUSE     152868  582529.504501  272061.237900  10052.0000  201341.0000   \n",
       "DAY       152868       4.082261       1.911370      1.0000       2.0000   \n",
       "PACKS     152868       1.000000       0.000000      1.0000       1.0000   \n",
       "NETSPEND  152868       2.920237       1.352321      0.0000       1.9900   \n",
       "\n",
       "                50%          75%          max  \n",
       "relweek      233.00     247.0000     260.0000  \n",
       "year           5.00       5.0000       5.0000  \n",
       "Volume         0.15       0.1999       0.7501  \n",
       "HOUSE     734862.00  761671.0000  788085.0000  \n",
       "DAY            4.00       6.0000       7.0000  \n",
       "PACKS          1.00       1.0000       1.0000  \n",
       "NETSPEND       2.97       4.0000      14.6300  "
      ]
     },
     "execution_count": 50,
     "metadata": {},
     "output_type": "execute_result"
    }
   ],
   "source": [
    "reduced_df.describe().T"
   ]
  },
  {
   "cell_type": "code",
   "execution_count": 51,
   "metadata": {
    "collapsed": false
   },
   "outputs": [
    {
     "data": {
      "text/plain": [
       "0           TPR 149p off\n",
       "1               2 FOR �5\n",
       "2               2 FOR �5\n",
       "3           TPR 164p off\n",
       "4           TPR 300p off\n",
       "5           No Promotion\n",
       "6           No Promotion\n",
       "7           TPR 095p off\n",
       "8           TPR 095p off\n",
       "9         50% Extra Free\n",
       "10        50% Extra Free\n",
       "11          No Promotion\n",
       "12          TPR 238p off\n",
       "13          TPR 238p off\n",
       "14          TPR 119p off\n",
       "15          TPR 100p off\n",
       "19          TPR 238p off\n",
       "20          No Promotion\n",
       "21          No Promotion\n",
       "22          No Promotion\n",
       "23          No Promotion\n",
       "24          TPR 148p off\n",
       "25          TPR 148p off\n",
       "26          TPR 238p off\n",
       "29          No Promotion\n",
       "31          TPR 095p off\n",
       "32          TPR 095p off\n",
       "33          TPR 095p off\n",
       "37          TPR 149p off\n",
       "38          TPR 149p off\n",
       "               ...      \n",
       "270063      TPR 058p off\n",
       "270064      TPR 149p off\n",
       "270066      TPR 199p off\n",
       "270067      TPR 299p off\n",
       "270068      TPR 299p off\n",
       "270069      TPR 200p off\n",
       "270070      TPR 099p off\n",
       "270071      No Promotion\n",
       "270072      TPR 350p off\n",
       "270073      TPR 350p off\n",
       "270074      No Promotion\n",
       "270075      No Promotion\n",
       "270076      No Promotion\n",
       "270078      TPR 100p off\n",
       "270079      No Promotion\n",
       "270080      No Promotion\n",
       "270081      No Promotion\n",
       "270082      No Promotion\n",
       "270083      No Promotion\n",
       "270085      TPR 069p off\n",
       "270087      No Promotion\n",
       "270088      No Promotion\n",
       "270089      TPR 289p off\n",
       "270090      TPR 598p off\n",
       "270091      TPR 199p off\n",
       "270092      TPR 225p off\n",
       "270093      TPR 225p off\n",
       "270094      No Promotion\n",
       "270095      TPR 226p off\n",
       "270096      No Promotion\n",
       "Name: epromdesc, dtype: object"
      ]
     },
     "execution_count": 51,
     "metadata": {},
     "output_type": "execute_result"
    }
   ],
   "source": [
    "reduced_df['epromdesc']"
   ]
  },
  {
   "cell_type": "code",
   "execution_count": 10,
   "metadata": {
    "collapsed": false
   },
   "outputs": [
    {
     "name": "stdout",
     "output_type": "stream",
     "text": [
      "                            OLS Regression Results                            \n",
      "==============================================================================\n",
      "Dep. Variable:                  Units   R-squared:                       0.640\n",
      "Model:                            OLS   Adj. R-squared:                  0.628\n",
      "Method:                 Least Squares   F-statistic:                     54.23\n",
      "Date:                Sat, 05 Mar 2016   Prob (F-statistic):           2.92e-14\n",
      "Time:                        09:19:14   Log-Likelihood:                -585.88\n",
      "No. Observations:                  64   AIC:                             1178.\n",
      "Df Residuals:                      61   BIC:                             1184.\n",
      "Df Model:                           2                                         \n",
      "Covariance Type:            nonrobust                                         \n",
      "==============================================================================\n",
      "                 coef    std err          t      P>|t|      [95.0% Conf. Int.]\n",
      "------------------------------------------------------------------------------\n",
      "Intercept   3.668e+04   7610.283      4.820      0.000      2.15e+04  5.19e+04\n",
      "Reg_Price    -77.6307     20.145     -3.854      0.000      -117.913   -37.348\n",
      "Price_Cut    279.1872     28.593      9.764      0.000       222.011   336.363\n",
      "==============================================================================\n",
      "Omnibus:                       12.257   Durbin-Watson:                   0.816\n",
      "Prob(Omnibus):                  0.002   Jarque-Bera (JB):               36.109\n",
      "Skew:                           0.264   Prob(JB):                     1.44e-08\n",
      "Kurtosis:                       6.642   Cond. No.                     9.82e+03\n",
      "==============================================================================\n",
      "\n",
      "Warnings:\n",
      "[1] Standard Errors assume that the covariance matrix of the errors is correctly specified.\n",
      "[2] The condition number is large, 9.82e+03. This might indicate that there are\n",
      "strong multicollinearity or other numerical problems.\n"
     ]
    }
   ],
   "source": [
    "# Coffee - Regressions\n",
    "\n",
    "# Design matrices (endog & exog)\n",
    "# http://statsmodels.sourceforge.net/devel/gettingstarted.html\n",
    "\n",
    "#cols = ['Week', 'Units', 'Reg_Price', 'Price_Cut', 'DISP', 'FEAT']\n",
    "\n",
    "# Linear model\n",
    "y1, X1 = patsy.dmatrices('Units ~ Reg_Price + Price_Cut', data=df, return_type='dataframe')\n",
    "\n",
    "# Semi-log model\n",
    "#y2, X2 = patsy.dmatrices('np.log(Units) ~ Reg_Price + Price_Cut', data=df, return_type='dataframe')\n",
    "\n",
    "# Log-log model\n",
    "#y3, X3 = patsy.dmatrices('np.log(Units) ~ np.log(Reg_Price) + np.log(Price_Cut)', data=df, return_type='dataframe')\n",
    "\n",
    "mod1 = sm.OLS(y1, X1)    # Describe linear model\n",
    "res1 = mod1.fit()       # Fit linear model\n",
    "\n",
    "#mod2 = sm.OLS(y2, X2)    # Describe semi-log model\n",
    "#res2 = mod2.fit()       # Fit semi-log model\n",
    "\n",
    "#mod3 = sm.OLS(y3, X3)    # Describe log-log model\n",
    "#res3 = mod3.fit()       # Fit log-log model\n",
    "\n",
    "# Change number to select which model to print summary of\n",
    "print res1.summary()"
   ]
  },
  {
   "cell_type": "code",
   "execution_count": 13,
   "metadata": {
    "collapsed": false
   },
   "outputs": [
    {
     "name": "stdout",
     "output_type": "stream",
     "text": [
      "price elasticity from linear model:  -3.54891729892\n"
     ]
    }
   ],
   "source": [
    "# Calculating price elasticities\n",
    "# Linear model\n",
    "price1_elas = res1.params[1]*np.mean(df['Reg_Price'])/np.mean(df['Units'])\n",
    "# Semi-log model\n",
    "#price2_elas = res2.params[1]*np.mean(df['Reg_Price'])\n",
    "# Log-log model\n",
    "#price3_elas = res3.params[1]\n",
    "\n",
    "print \"price elasticity from linear model: \", price1_elas\n",
    "#print \"price elasticity from semi-log model: \", price2_elas\n",
    "#print \"price elasticity from log-log model: \", price3_elas"
   ]
  },
  {
   "cell_type": "markdown",
   "metadata": {},
   "source": [
    "### COFFEE REGRESSIONS: Estimating Demand\n",
    "\n",
    "#### Linear model: Units (oz) = 3669 - 77.631 Reg_Price + 279.187 Price_Cut\n",
    "\n",
    "* Price elasticity = beta_1 * Pi/Qi (->take the mean of these)\n",
    "    *              = -3.549\n",
    "* Adj-R.sq = 0.640\n",
    "* Price t-Stat = -3.854\n",
    "* Price_Cut t-Stat = 9.764\n",
    "\n",
    "\n",
    "#### Other models\n",
    "\n",
    "Semi-log model:\n",
    "Adj-R.sq = 0.508\n",
    "\n",
    "Log-log model:\n",
    "Adj-R.sq = \n",
    "Price t-Stat ="
   ]
  },
  {
   "cell_type": "code",
   "execution_count": 18,
   "metadata": {
    "collapsed": false
   },
   "outputs": [
    {
     "name": "stdout",
     "output_type": "stream",
     "text": [
      "                            OLS Regression Results                            \n",
      "==============================================================================\n",
      "Dep. Variable:                  Units   R-squared:                       0.876\n",
      "Model:                            OLS   Adj. R-squared:                  0.867\n",
      "Method:                 Least Squares   F-statistic:                     103.7\n",
      "Date:                Sat, 05 Mar 2016   Prob (F-statistic):           5.44e-26\n",
      "Time:                        09:27:39   Log-Likelihood:                -551.91\n",
      "No. Observations:                  64   AIC:                             1114.\n",
      "Df Residuals:                      59   BIC:                             1125.\n",
      "Df Model:                           4                                         \n",
      "Covariance Type:            nonrobust                                         \n",
      "==============================================================================\n",
      "                 coef    std err          t      P>|t|      [95.0% Conf. Int.]\n",
      "------------------------------------------------------------------------------\n",
      "Intercept   2.806e+04   4659.428      6.022      0.000      1.87e+04  3.74e+04\n",
      "Reg_Price    -54.4263     12.345     -4.409      0.000       -79.128   -29.724\n",
      "Price_Cut     85.0277     25.333      3.356      0.001        34.337   135.718\n",
      "DISP        2.356e+04   4208.374      5.599      0.000      1.51e+04   3.2e+04\n",
      "FEAT        2345.0082    642.205      3.651      0.001      1059.959  3630.058\n",
      "==============================================================================\n",
      "Omnibus:                        0.311   Durbin-Watson:                   1.092\n",
      "Prob(Omnibus):                  0.856   Jarque-Bera (JB):                0.164\n",
      "Skew:                          -0.123   Prob(JB):                        0.921\n",
      "Kurtosis:                       2.978   Cond. No.                     1.06e+04\n",
      "==============================================================================\n",
      "\n",
      "Warnings:\n",
      "[1] Standard Errors assume that the covariance matrix of the errors is correctly specified.\n",
      "[2] The condition number is large, 1.06e+04. This might indicate that there are\n",
      "strong multicollinearity or other numerical problems.\n"
     ]
    }
   ],
   "source": [
    "# Regression Including marketing values\n",
    "y4, X4 = patsy.dmatrices('Units ~ Reg_Price + Price_Cut + DISP + FEAT', data=df, return_type='dataframe')\n",
    "\n",
    "mod4 = sm.OLS(y4, X4)    # Describe model\n",
    "res4 = mod4.fit()       # Fit model\n",
    "print res4.summary()   # Summarize model"
   ]
  },
  {
   "cell_type": "code",
   "execution_count": 26,
   "metadata": {
    "collapsed": false
   },
   "outputs": [
    {
     "data": {
      "image/png": "[encoded data removed]",
      "text/plain": [
       "<matplotlib.figure.Figure at 0x10fa8fe50>"
      ]
     },
     "execution_count": 26,
     "metadata": {},
     "output_type": "execute_result"
    },
    {
     "data": {
      "image/png": "[encoded data removed]",
      "text/plain": [
       "<matplotlib.figure.Figure at 0x10fa8fe50>"
      ]
     },
     "metadata": {},
     "output_type": "display_data"
    }
   ],
   "source": [
    "sm.graphics.plot_partregress('Units', 'Reg_Price', ['Price_Cut'], data=df, obs_labels=False)\n",
    "# sm.graphics.plot_partregress('np.log(Units)', 'Reg_Price', ['Price_Cut'], data=df, obs_labels=False)\n",
    "# sm.graphics.plot_partregress('np.log(Units)', 'np.log(Reg_Price)', ['Price_Cut'], data=df, obs_labels=False)"
   ]
  },
  {
   "cell_type": "markdown",
   "metadata": {},
   "source": [
    "#### So which is the best model?\n",
    " * We recomputed the Sum of Squared Errors for all the models by predicting units \n",
    "     (we take the exponential of the predictions of the models using log units as dependent variable)\n",
    " * To get an idea of size of the error take the square root of that and divide by the number of observations and now it is no longer clear that the non-linear models are really so much better\n",
    " * Other diagnostics are also useful (e.g. look at the errors)\n",
    " \n",
    " \n",
    "#### Get better results by including: \n",
    " * Marketing Variables: Feature and Display are also called “quality discounts” because they are usually more noticeable and case greater lift)\n",
    " * Competitive Effects: Cross-effects i.e. how the actions of others impact our sales"
   ]
  },
  {
   "cell_type": "code",
   "execution_count": null,
   "metadata": {
    "collapsed": false
   },
   "outputs": [],
   "source": [
    "obs = sm.regression.linear_model.RegressionResults.nobs(res)\n",
    "\n",
    "# Sum of squared residuals (also known as the Sum of Squared Errors) \n",
    "#    -> the lower the better: use to compare models\n",
    "ssr = sm.regression.linear_model.RegressionResults.ssr(res)\n",
    "np.sqrt(ssr)/obs\n",
    "\n",
    "# Total mean squared error. \n",
    "# Defined as the uncentered total sum of squares divided by n the number of observations.\n",
    "#sm.regression.linear_model.RegressionResults.mse_total(res)\n",
    "\n",
    "# Mean squared error of the residuals. \n",
    "# The sum of squared residuals divided by the residual degrees of freedom.\n",
    "#sm.regression.linear_model.RegressionResults.mse_resid(res)\n",
    "\n",
    "# sm.regression.linear_model.RegressionResults.fittedvalues(res)"
   ]
  },
  {
   "cell_type": "markdown",
   "metadata": {},
   "source": [
    "### Calculating cross price elasticities of Detergent1 on the remaining 3\n",
    "\n",
    "Cross-Price Elasticity Example:\n",
    "Competitor j lowers price by 10 percent, our volume declines by 5 percent\n",
    "The cross-price elasticity of our sales with respect to competitor j’s price is 5/10 = 0.50\n",
    "Interpretation: if our competitor increases price by 1% we will increase our units sold by 0.5%\n"
   ]
  },
  {
   "cell_type": "code",
   "execution_count": 17,
   "metadata": {
    "collapsed": false,
    "scrolled": true
   },
   "outputs": [
    {
     "name": "stdout",
     "output_type": "stream",
     "text": [
      "                            OLS Regression Results                            \n",
      "==============================================================================\n",
      "Dep. Variable:                  Units   R-squared:                       0.876\n",
      "Model:                            OLS   Adj. R-squared:                  0.867\n",
      "Method:                 Least Squares   F-statistic:                     103.7\n",
      "Date:                Sat, 05 Mar 2016   Prob (F-statistic):           5.44e-26\n",
      "Time:                        09:27:00   Log-Likelihood:                -551.91\n",
      "No. Observations:                  64   AIC:                             1114.\n",
      "Df Residuals:                      59   BIC:                             1125.\n",
      "Df Model:                           4                                         \n",
      "Covariance Type:            nonrobust                                         \n",
      "==============================================================================\n",
      "                 coef    std err          t      P>|t|      [95.0% Conf. Int.]\n",
      "------------------------------------------------------------------------------\n",
      "Intercept   2.806e+04   4659.428      6.022      0.000      1.87e+04  3.74e+04\n",
      "Reg_Price    -54.4263     12.345     -4.409      0.000       -79.128   -29.724\n",
      "Price_Cut     85.0277     25.333      3.356      0.001        34.337   135.718\n",
      "DISP        2.356e+04   4208.374      5.599      0.000      1.51e+04   3.2e+04\n",
      "FEAT        2345.0082    642.205      3.651      0.001      1059.959  3630.058\n",
      "==============================================================================\n",
      "Omnibus:                        0.311   Durbin-Watson:                   1.092\n",
      "Prob(Omnibus):                  0.856   Jarque-Bera (JB):                0.164\n",
      "Skew:                          -0.123   Prob(JB):                        0.921\n",
      "Kurtosis:                       2.978   Cond. No.                     1.06e+04\n",
      "==============================================================================\n",
      "\n",
      "Warnings:\n",
      "[1] Standard Errors assume that the covariance matrix of the errors is correctly specified.\n",
      "[2] The condition number is large, 1.06e+04. This might indicate that there are\n",
      "strong multicollinearity or other numerical problems.\n"
     ]
    }
   ],
   "source": [
    "# We use the linear model\n",
    "y4, X4 = patsy.dmatrices('Units ~ Reg_Price + Price_Cut + DISP + FEAT', data=df, return_type='dataframe')\n",
    "                         \n",
    "mod4 = sm.OLS(y4, X4)    # Describe model\n",
    "res4 = mod4.fit()       # Fit model\n",
    "print res4.summary()   # Summarize model"
   ]
  },
  {
   "cell_type": "code",
   "execution_count": null,
   "metadata": {
    "collapsed": false
   },
   "outputs": [],
   "source": [
    "# Computations of elasticities are exactly the same as before except now we use the mean of Pi and Qi\n",
    "# of the competing brand.\n",
    "res4.params"
   ]
  },
  {
   "cell_type": "markdown",
   "metadata": {
    "collapsed": false
   },
   "source": [
    "#### Elasticity Matrix"
   ]
  },
  {
   "cell_type": "code",
   "execution_count": null,
   "metadata": {
    "collapsed": false
   },
   "outputs": [],
   "source": [
    "# For a semi-log model\n",
    "own_price_elas = res4.params[1] * np.mean(df['PRICE1'])\n",
    "cross_elas1_on_2 = res4.params[1] * np.mean(df['PRICE2'])\n",
    "cross_elas1_on_3 = res4.params[1] * np.mean(df['PRICE3'])\n",
    "cross_elas1_on_4 = res4.params[1] * np.mean(df['PRICE4'])\n",
    "\n",
    "# This would be the first column of the cross price elasticity\n",
    "#vol.extend(value for name, value in locals().items() if name.startswith('volume'))\n",
    "col_1 = [own_price_elas, cross_elas1_on_2, cross_elas1_on_3, cross_elas1_on_4]\n",
    "col_1"
   ]
  },
  {
   "cell_type": "markdown",
   "metadata": {
    "collapsed": true
   },
   "source": [
    "### Clout and Vulnerability"
   ]
  },
  {
   "cell_type": "code",
   "execution_count": null,
   "metadata": {
    "collapsed": true
   },
   "outputs": [],
   "source": []
  }
 ],
 "metadata": {
  "kernelspec": {
   "display_name": "Python 2",
   "language": "python",
   "name": "python2"
  },
  "language_info": {
   "codemirror_mode": {
    "name": "ipython",
    "version": 2
   },
   "file_extension": ".py",
   "mimetype": "text/x-python",
   "name": "python",
   "nbconvert_exporter": "python",
   "pygments_lexer": "ipython2",
   "version": "2.7.10"
  }
 },
 "nbformat": 4,
 "nbformat_minor": 0
}
